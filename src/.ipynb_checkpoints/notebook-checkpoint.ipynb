{
 "cells": [
  {
   "cell_type": "code",
   "execution_count": 1,
   "metadata": {},
   "outputs": [
    {
     "name": "stdin",
     "output_type": "stream",
     "text": [
      "Insert the QEPAS file path: /Volumes/Federico/Università/tesi/GC-QEPAS_datafusion/spettri_QEPAS_v0.2.xlsx\n",
      "Insert the QEPAS sheet name: Sheet1\n",
      "Insert the GC file path: /Volumes/Federico/Università/tesi/GC-QEPAS_datafusion/tempi_ritenzione_v0.2.xlsx\n",
      "Insert the GC sheet name: Sheet1\n"
     ]
    }
   ],
   "source": [
    "from lldf import LLDF\n",
    "\n",
    "lldf_object = LLDF('snv')\n",
    "lldf_object.lldf()\n",
    "fused_data = lldf_object.fused_data"
   ]
  },
  {
   "cell_type": "code",
   "execution_count": 3,
   "metadata": {},
   "outputs": [
    {
     "ename": "AttributeError",
     "evalue": "'NoneType' object has no attribute 'X_data'",
     "output_type": "error",
     "traceback": [
      "\u001b[0;31m---------------------------------------------------------------------------\u001b[0m",
      "\u001b[0;31mAttributeError\u001b[0m                            Traceback (most recent call last)",
      "Cell \u001b[0;32mIn[3], line 4\u001b[0m\n\u001b[1;32m      1\u001b[0m \u001b[38;5;28;01mfrom\u001b[39;00m \u001b[38;5;21;01msvm\u001b[39;00m \u001b[38;5;28;01mimport\u001b[39;00m SVM\n\u001b[1;32m      3\u001b[0m Svm \u001b[38;5;241m=\u001b[39m SVM(fused_data\u001b[38;5;241m=\u001b[39mfused_data, \u001b[38;5;28mtype\u001b[39m\u001b[38;5;241m=\u001b[39m\u001b[38;5;124m\"\u001b[39m\u001b[38;5;124mlinear\u001b[39m\u001b[38;5;124m\"\u001b[39m)\n\u001b[0;32m----> 4\u001b[0m \u001b[43mSvm\u001b[49m\u001b[38;5;241;43m.\u001b[39;49m\u001b[43msvm\u001b[49m\u001b[43m(\u001b[49m\u001b[43m)\u001b[49m\n",
      "File \u001b[0;32m~/Desktop/progetto/src/svm.py:22\u001b[0m, in \u001b[0;36mSVM.svm\u001b[0;34m(self)\u001b[0m\n\u001b[1;32m     21\u001b[0m \u001b[38;5;28;01mdef\u001b[39;00m \u001b[38;5;21msvm\u001b[39m(\u001b[38;5;28mself\u001b[39m):\n\u001b[0;32m---> 22\u001b[0m     X_data \u001b[38;5;241m=\u001b[39m \u001b[38;5;28;43mself\u001b[39;49m\u001b[38;5;241;43m.\u001b[39;49m\u001b[43mfused_data\u001b[49m\u001b[38;5;241;43m.\u001b[39;49m\u001b[43mX_data\u001b[49m\n\u001b[1;32m     23\u001b[0m     X_train \u001b[38;5;241m=\u001b[39m \u001b[38;5;28mself\u001b[39m\u001b[38;5;241m.\u001b[39mfused_data\u001b[38;5;241m.\u001b[39mX_train\n\u001b[1;32m     24\u001b[0m     Y \u001b[38;5;241m=\u001b[39m \u001b[38;5;28mself\u001b[39m\u001b[38;5;241m.\u001b[39mfused_data\u001b[38;5;241m.\u001b[39mY\n",
      "\u001b[0;31mAttributeError\u001b[0m: 'NoneType' object has no attribute 'X_data'"
     ]
    }
   ],
   "source": [
    "from svm import SVM\n",
    "\n",
    "Svm = SVM(fused_data=fused_data, type=\"linear\")\n",
    "Svm.svm()"
   ]
  },
  {
   "cell_type": "code",
   "execution_count": null,
   "metadata": {},
   "outputs": [],
   "source": []
  }
 ],
 "metadata": {
  "kernelspec": {
   "display_name": "Python 3 (ipykernel)",
   "language": "python",
   "name": "python3"
  },
  "language_info": {
   "codemirror_mode": {
    "name": "ipython",
    "version": 3
   },
   "file_extension": ".py",
   "mimetype": "text/x-python",
   "name": "python",
   "nbconvert_exporter": "python",
   "pygments_lexer": "ipython3",
   "version": "3.11.5"
  },
  "vscode": {
   "interpreter": {
    "hash": "aee8b7b246df8f9039afb4144a1f6fd8d2ca17a180786b69acc140d282b71a49"
   }
  }
 },
 "nbformat": 4,
 "nbformat_minor": 4
}
