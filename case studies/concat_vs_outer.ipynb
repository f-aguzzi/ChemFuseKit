{
 "cells": [
  {
   "cell_type": "markdown",
   "metadata": {},
   "source": [
    "# No feature reduction"
   ]
  },
  {
   "cell_type": "code",
   "execution_count": null,
   "metadata": {},
   "outputs": [],
   "source": [
    "from chemfusekit.df import DFSettings, DF, Table\n",
    "from chemfusekit.lr import LRSettings, LR, GraphMode\n",
    "\n",
    "# Let's import a table of QEPAS data (needs SNV preprocessing)\n",
    "table1 = Table(\n",
    "    file_path='../tests/qepas.xlsx',\n",
    "    sheet_name='Sheet1',\n",
    "    class_column='Substance',\n",
    "    preprocessing='snv'\n",
    ")\n",
    "df = DF(DFSettings(), [table1])\n",
    "df.fuse()\n",
    "data = df.fused_data\n",
    "\n",
    "# Perform LR on the imported QEPAS data\n",
    "lr_settings = LRSettings(output=GraphMode.GRAPHIC, test_split=True)\n",
    "lr = LR(lr_settings, data)\n",
    "lr.train()"
   ]
  },
  {
   "cell_type": "code",
   "execution_count": null,
   "metadata": {},
   "outputs": [],
   "source": [
    "from chemfusekit.df import DFSettings, DF, Table\n",
    "from chemfusekit.lr import LRSettings, LR, GraphMode\n",
    "\n",
    "# Let's import a table of QEPAS data (needs SNV preprocessing)\n",
    "table1 = Table(\n",
    "    file_path='../tests/qepas.xlsx',\n",
    "    sheet_name='Sheet1',\n",
    "    class_column='Substance',\n",
    "    preprocessing='snv'\n",
    ")\n",
    "table2 = Table(\n",
    "    file_path='../tests/rt.xlsx',\n",
    "    sheet_name='Sheet1',\n",
    "    class_column='Substance',\n",
    "    preprocessing='none'\n",
    ")\n",
    "df = DF(DFSettings(), [table1, table2])\n",
    "df.fuse()\n",
    "data = df.fused_data\n",
    "\n",
    "# Perform LR on the imported QEPAS data\n",
    "lr_settings = LRSettings(output=GraphMode.GRAPHIC, test_split=True)\n",
    "lr = LR(lr_settings, data)\n",
    "lr.train()"
   ]
  },
  {
   "cell_type": "code",
   "execution_count": null,
   "metadata": {},
   "outputs": [],
   "source": [
    "from chemfusekit.df import DFSettings, DF, Table\n",
    "from chemfusekit.lr import LRSettings, LR, GraphMode\n",
    "\n",
    "# Let's import a table of QEPAS data (needs SNV preprocessing)\n",
    "table1 = Table(\n",
    "    file_path='../tests/qepas.xlsx',\n",
    "    sheet_name='Sheet1',\n",
    "    class_column='Substance',\n",
    "    preprocessing='snv'\n",
    ")\n",
    "table2 = Table(\n",
    "    file_path='../tests/rt.xlsx',\n",
    "    sheet_name='Sheet1',\n",
    "    class_column='Substance',\n",
    "    preprocessing='none'\n",
    ")\n",
    "df = DF(DFSettings(method='outer'), [table1, table2])\n",
    "df.fuse()\n",
    "data = df.fused_data\n",
    "\n",
    "# Perform LR on the imported QEPAS data\n",
    "lr_settings = LRSettings(output=GraphMode.GRAPHIC, test_split=True)\n",
    "lr = LR(lr_settings, data)\n",
    "lr.train()"
   ]
  },
  {
   "cell_type": "markdown",
   "metadata": {},
   "source": [
    "# Feature reduction"
   ]
  },
  {
   "cell_type": "code",
   "execution_count": null,
   "metadata": {},
   "outputs": [],
   "source": [
    "from chemfusekit.df import DFSettings, DF, Table\n",
    "from chemfusekit.lr import LRSettings, LR, GraphMode\n",
    "\n",
    "# Let's import a table of QEPAS data (needs SNV preprocessing)\n",
    "table1 = Table(\n",
    "    file_path='../tests/qepas.xlsx',\n",
    "    sheet_name='Sheet1',\n",
    "    class_column='Substance',\n",
    "    preprocessing='snv',\n",
    "    feature_selection='pca'\n",
    ")\n",
    "df = DF(DFSettings(), [table1])\n",
    "df.fuse()\n",
    "data = df.fused_data\n",
    "\n",
    "# Perform LR on the imported QEPAS data\n",
    "lr_settings = LRSettings(output=GraphMode.GRAPHIC, test_split=True)\n",
    "lr = LR(lr_settings, data)\n",
    "lr.train()"
   ]
  },
  {
   "cell_type": "code",
   "execution_count": null,
   "metadata": {},
   "outputs": [],
   "source": [
    "from chemfusekit.df import DFSettings, DF, Table\n",
    "from chemfusekit.lr import LRSettings, LR, GraphMode\n",
    "\n",
    "# Let's import a table of QEPAS data (needs SNV preprocessing)\n",
    "table1 = Table(\n",
    "    file_path='../tests/qepas.xlsx',\n",
    "    sheet_name='Sheet1',\n",
    "    class_column='Substance',\n",
    "    preprocessing='snv',\n",
    "    feature_selection='pca'\n",
    ")\n",
    "table2 = Table(\n",
    "    file_path='../tests/rt.xlsx',\n",
    "    sheet_name='Sheet1',\n",
    "    class_column='Substance',\n",
    "    preprocessing='none'\n",
    ")\n",
    "df = DF(DFSettings(), [table1, table2])\n",
    "df.fuse()\n",
    "data = df.fused_data\n",
    "\n",
    "# Perform LR on the imported QEPAS data\n",
    "lr_settings = LRSettings(output=GraphMode.GRAPHIC, test_split=True)\n",
    "lr = LR(lr_settings, data)\n",
    "lr.train()"
   ]
  },
  {
   "cell_type": "code",
   "execution_count": null,
   "metadata": {},
   "outputs": [],
   "source": [
    "from chemfusekit.df import DFSettings, DF, Table\n",
    "from chemfusekit.lr import LRSettings, LR, GraphMode\n",
    "\n",
    "# Let's import a table of QEPAS data (needs SNV preprocessing)\n",
    "table1 = Table(\n",
    "    file_path='../tests/qepas.xlsx',\n",
    "    sheet_name='Sheet1',\n",
    "    class_column='Substance',\n",
    "    preprocessing='snv',\n",
    "    feature_selection='pca'\n",
    ")\n",
    "table2 = Table(\n",
    "    file_path='../tests/rt.xlsx',\n",
    "    sheet_name='Sheet1',\n",
    "    class_column='Substance',\n",
    "    preprocessing='none'\n",
    ")\n",
    "df = DF(DFSettings(method='outer'), [table1, table2])\n",
    "df.fuse()\n",
    "data = df.fused_data\n",
    "\n",
    "# Perform LR on the imported QEPAS data\n",
    "lr_settings = LRSettings(output=GraphMode.GRAPHIC, test_split=True)\n",
    "lr = LR(lr_settings, data)\n",
    "lr.train()"
   ]
  },
  {
   "cell_type": "code",
   "execution_count": null,
   "metadata": {},
   "outputs": [],
   "source": []
  }
 ],
 "metadata": {
  "kernelspec": {
   "display_name": "Python 3.12.3 ('.venv': venv)",
   "language": "python",
   "name": "python3"
  },
  "language_info": {
   "codemirror_mode": {
    "name": "ipython",
    "version": 3
   },
   "file_extension": ".py",
   "mimetype": "text/x-python",
   "name": "python",
   "nbconvert_exporter": "python",
   "pygments_lexer": "ipython3",
   "version": "3.12.3"
  },
  "orig_nbformat": 4,
  "vscode": {
   "interpreter": {
    "hash": "0adf20f4cd3c09df9458869b76345de81eb21527fdd82bbecfd21ff585123f63"
   }
  }
 },
 "nbformat": 4,
 "nbformat_minor": 2
}
