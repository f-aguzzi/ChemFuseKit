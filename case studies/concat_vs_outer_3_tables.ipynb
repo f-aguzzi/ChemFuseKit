{
 "cells": [
  {
   "cell_type": "code",
   "execution_count": null,
   "metadata": {},
   "outputs": [],
   "source": [
    "from chemfusekit.df import DFSettings, DF, Table\n",
    "from chemfusekit.knn import KNNSettings, KNN\n",
    "from chemfusekit.pca import PCASettings, PCA\n",
    "\n",
    "# Set up the import settings for the first table (IMS spectral data)\n",
    "table1 = Table(\n",
    "    file_path='./IMS_GC_QEPAS.xlsx',\n",
    "    sheet_name='IMS',\n",
    "    preprocessing='snv',\n",
    "    class_column='Class',\n",
    "    feature_selection='plsda'\n",
    ")\n",
    "\n",
    "# Set up the import settings for the second table (GC chromatography data)\n",
    "table2 = Table(\n",
    "    file_path='./IMS_GC_QEPAS.xlsx',\n",
    "    sheet_name='GC',\n",
    "    preprocessing='none',\n",
    "    class_column='Class',\n",
    "    feature_selection='plsda'\n",
    ")\n",
    "\n",
    "# Set up the import settings for the third table (QEPAS spectral data)\n",
    "table3 = Table(\n",
    "    file_path='./IMS_GC_QEPAS.xlsx',\n",
    "    sheet_name='QEPAS',\n",
    "    preprocessing='snv',\n",
    "    class_column='Class'\n",
    ")\n",
    "\n",
    "# Now, let's make an array of the three tables\n",
    "df = DF(DFSettings(), [table1, table2, table3])\n",
    "df.fuse()\n",
    "data = df.fused_data\n",
    "print(data.y)\n",
    "\n",
    "# Set up and perform KNN\n",
    "knn_settings = KNNSettings(output='graphical', test_split=True)\n",
    "knn = KNN(knn_settings, data)\n",
    "knn.train()"
   ]
  },
  {
   "cell_type": "code",
   "execution_count": null,
   "metadata": {},
   "outputs": [],
   "source": []
  }
 ],
 "metadata": {
  "kernelspec": {
   "display_name": "Python 3.10.14 ('.venv': venv)",
   "language": "python",
   "name": "python3"
  },
  "language_info": {
   "codemirror_mode": {
    "name": "ipython",
    "version": 3
   },
   "file_extension": ".py",
   "mimetype": "text/x-python",
   "name": "python",
   "nbconvert_exporter": "python",
   "pygments_lexer": "ipython3",
   "version": "3.10.14"
  },
  "orig_nbformat": 4,
  "vscode": {
   "interpreter": {
    "hash": "81d8f80a3d553cdb5a29fb03d9deaaaac5f47c6ba9e68f5e3a3f03e89cd14d92"
   }
  }
 },
 "nbformat": 4,
 "nbformat_minor": 2
}
